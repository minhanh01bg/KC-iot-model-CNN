{
 "cells": [
  {
   "cell_type": "code",
   "execution_count": 7,
   "metadata": {},
   "outputs": [],
   "source": [
    "import pandas as pd\n",
    "import numpy as np  \n"
   ]
  },
  {
   "cell_type": "code",
   "execution_count": 14,
   "metadata": {},
   "outputs": [],
   "source": [
    "dir = '../csv_all/split/401_800.csv'\n",
    "file = pd.read_csv(dir)\n",
    "dest = './data_test/DDOS.csv'\n",
    "benign = pd.read_csv('./benign.csv')"
   ]
  },
  {
   "cell_type": "code",
   "execution_count": 9,
   "metadata": {},
   "outputs": [],
   "source": [
    "namere = {\n",
    "    'ACK Flag Count' : 'ACK Flag Cnt',\n",
    "    'Active Max' : 'Active Max',\n",
    "    'Active Mean' : 'Active Mean',\n",
    "    'Active Min' : 'Active Min',\n",
    "    'Active Std' : 'Active Std',\n",
    "    'Bwd Bulk Rate Avg' : 'Bwd Blk Rate Avg',\n",
    "    'Bwd Bytes/Bulk Avg' : 'Bwd Byts/b Avg',\n",
    "    'Bwd Header Length' : 'Bwd Header Len',\n",
    "    'Bwd IAT Max' : 'Bwd IAT Max',\n",
    "    'Bwd IAT Mean' : 'Bwd IAT Mean',\n",
    "    'Bwd IAT Min' : 'Bwd IAT Min',\n",
    "    'Bwd IAT Std' : 'Bwd IAT Std',\n",
    "    'Bwd IAT Total' : 'Bwd IAT Tot',\n",
    "    'Bwd PSH Flags' : 'Bwd PSH Flags',\n",
    "    'Bwd Packet Length Max' : 'Bwd Pkt Len Max',\n",
    "    'Bwd Packet Length Mean' : 'Bwd Pkt Len Mean',\n",
    "    'Bwd Packet Length Min' : 'Bwd Pkt Len Min',\n",
    "    'Bwd Packet Length Std' : 'Bwd Pkt Len Std',\n",
    "    'Bwd Packet/Bulk Avg' : 'Bwd Pkts/b Avg',\n",
    "    'Bwd Packets/s' : 'Bwd Pkts/s',\n",
    "    'Bwd Segment Size Avg' : 'Bwd Seg Size Avg',\n",
    "    'Bwd URG Flags' : 'Bwd URG Flags',\n",
    "    'CWR Flag Count' : 'CWE Flag Count', #\n",
    "    'Down/Up Ratio' : 'Down/Up Ratio',\n",
    "    'Dst Port' : 'Dst Port',\n",
    "    'ECE Flag Count' : 'ECE Flag Cnt',\n",
    "    'FIN Flag Count' : 'FIN Flag Cnt',\n",
    "    'Flow Bytes/s' : 'Flow Byts/s',\n",
    "    'Flow Duration' : 'Flow Duration',\n",
    "    'Flow IAT Max' : 'Flow IAT Max',\n",
    "    'Flow IAT Mean' : 'Flow IAT Mean',\n",
    "    'Flow IAT Min' : 'Flow IAT Min',\n",
    "    'Flow IAT Std' : 'Flow IAT Std',\n",
    "    'Flow Packets/s' : 'Flow Pkts/s',\n",
    "    'Fwd Act Data Pkts' : 'Fwd Act Data Pkts',\n",
    "    'Fwd Bulk Rate Avg' : 'Fwd Blk Rate Avg',\n",
    "    'Fwd Bytes/Bulk Avg' : 'Fwd Byts/b Avg',\n",
    "    'Fwd Header Length' : 'Fwd Header Len',\n",
    "    'Fwd IAT Max' : 'Fwd IAT Max',\n",
    "    'Fwd IAT Mean' : 'Fwd IAT Mean',\n",
    "    'Fwd IAT Min' : 'Fwd IAT Min',\n",
    "    'Fwd IAT Std' : 'Fwd IAT Std',\n",
    "    'Fwd IAT Total' : 'Fwd IAT Tot',\n",
    "    'Fwd PSH Flags' : 'Fwd PSH Flags',\n",
    "    'Fwd Packet Length Max' : 'Fwd Pkt Len Max',\n",
    "    'Fwd Packet Length Mean' : 'Fwd Pkt Len Mean',\n",
    "    'Fwd Packet Length Min' : 'Fwd Pkt Len Min',\n",
    "    'Fwd Packet Length Std' : 'Fwd Pkt Len Std',\n",
    "    'Fwd Packet/Bulk Avg' : 'Fwd Pkts/b Avg',\n",
    "    'Fwd Packets/s' : 'Fwd Pkts/s',\n",
    "    'Fwd Seg Size Min' : 'Fwd Seg Size Min',\n",
    "    'Fwd Segment Size Avg' : 'Fwd Seg Size Avg',\n",
    "    'Fwd URG Flags' : 'Fwd URG Flags',\n",
    "    'Idle Max' : 'Idle Max',\n",
    "    'Idle Mean' : 'Idle Mean',\n",
    "    'Idle Min' : 'Idle Min',\n",
    "    'Idle Std' : 'Idle Std',\n",
    "    'PSH Flag Count' : 'PSH Flag Cnt',\n",
    "    'Packet Length Max' : 'Pkt Len Max',\n",
    "    'Packet Length Mean' : 'Pkt Len Mean',\n",
    "    'Packet Length Min' : 'Pkt Len Min',\n",
    "    'Packet Length Std' : 'Pkt Len Std',\n",
    "    'Packet Length Variance' : 'Pkt Len Var',\n",
    "    'Average Packet Size' : 'Pkt Size Avg', #\n",
    "    'Protocol' : 'Protocol',\n",
    "    'RST Flag Count' : 'RST Flag Cnt',\n",
    "    'SYN Flag Count' : 'SYN Flag Cnt',\n",
    "    'Subflow Bwd Bytes' : 'Subflow Bwd Byts',  \n",
    "    'Subflow Bwd Packets' : 'Subflow Bwd Pkts',\n",
    "    'Subflow Fwd Bytes' : 'Subflow Fwd Byts',\n",
    "    'Subflow Fwd Packets' : 'Subflow Fwd Pkts',\n",
    "    'Timestamp' : 'Timestamp',\n",
    "    'Total Bwd packets' : 'Tot Bwd Pkts',\n",
    "    'Total Fwd Packet' : 'Tot Fwd Pkts',\n",
    "    'Total Length of Bwd Packet' : 'TotLen Bwd Pkts',\n",
    "    'Total Length of Fwd Packet' : 'TotLen Fwd Pkts',\n",
    "    'URG Flag Count' : 'URG Flag Cnt',\n",
    "    'Bwd Init Win Bytes': 'Init Bwd Win Byts',\n",
    "    'FWD Init Win Bytes': 'Init Fwd Win Byts',\n",
    "}\n",
    "file_new = file.rename(columns=namere)\n",
    "# file_new.to_csv(dest,index=False)"
   ]
  },
  {
   "cell_type": "code",
   "execution_count": 10,
   "metadata": {},
   "outputs": [],
   "source": [
    "file_new.drop(['Flow ID', 'Src IP', 'Src Port', 'Dst IP'], axis=1, inplace=True)\n",
    "# file_new.replace('NeedManualLabel','Password_attack',inplace=True)"
   ]
  },
  {
   "cell_type": "code",
   "execution_count": 11,
   "metadata": {},
   "outputs": [],
   "source": [
    "for col in benign.columns:\n",
    "    if col not in file_new.columns:\n",
    "        print(col)"
   ]
  },
  {
   "cell_type": "code",
   "execution_count": 12,
   "metadata": {},
   "outputs": [],
   "source": [
    "file_new.to_csv(dest,index=False)"
   ]
  }
 ],
 "metadata": {
  "kernelspec": {
   "display_name": "Python 3",
   "language": "python",
   "name": "python3"
  },
  "language_info": {
   "codemirror_mode": {
    "name": "ipython",
    "version": 3
   },
   "file_extension": ".py",
   "mimetype": "text/x-python",
   "name": "python",
   "nbconvert_exporter": "python",
   "pygments_lexer": "ipython3",
   "version": "3.10.6"
  },
  "orig_nbformat": 4,
  "vscode": {
   "interpreter": {
    "hash": "6a3ffae8020a817511732d4d0fe02060948831585d778b076daf6741c73f247a"
   }
  }
 },
 "nbformat": 4,
 "nbformat_minor": 2
}
