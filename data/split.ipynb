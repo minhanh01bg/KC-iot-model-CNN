{
 "cells": [
  {
   "cell_type": "code",
   "execution_count": 1,
   "metadata": {},
   "outputs": [],
   "source": [
    "import numpy as np\n",
    "import pandas as pd"
   ]
  },
  {
   "cell_type": "code",
   "execution_count": 10,
   "metadata": {},
   "outputs": [],
   "source": [
    "# benign = pd.read_csv('./data_concat_Benign.csv')\n",
    "# password_attack = pd.read_csv('./password_attack.csv')\n",
    "# ddos = pd.read_csv('./ddos.csv')\n",
    "# port_scan1 = pd.read_csv('./port_scan_all.csv')\n",
    "# port_scan2 = pd.read_csv('./port_scan_2.csv')"
   ]
  },
  {
   "cell_type": "code",
   "execution_count": 2,
   "metadata": {},
   "outputs": [],
   "source": [
    "# ddos = pd.read_pickle('./do_2M.pkl')\n",
    "# port_scan1 = pd.read_pickle('./port_scan_2M.pkl')\n",
    "be = pd.read_pickle('./be_3M.pkl')"
   ]
  },
  {
   "cell_type": "code",
   "execution_count": null,
   "metadata": {},
   "outputs": [],
   "source": [
    "# password_attack.info()"
   ]
  },
  {
   "cell_type": "code",
   "execution_count": null,
   "metadata": {},
   "outputs": [],
   "source": [
    "# ddos.info()\n",
    "# port_scan1.info()\n",
    "# port_scan2.info()"
   ]
  },
  {
   "cell_type": "code",
   "execution_count": 13,
   "metadata": {},
   "outputs": [],
   "source": [
    "be = be[:1500000]\n",
    "# pa = password_attack[:1000000]\n",
    "# do = ddos[:1000000]\n",
    "# po1 = port_scan1[:500000]\n",
    "# po2 = port_scan2[:500000]\n",
    "# con = pd.concat([po1, po2], axis=0)"
   ]
  },
  {
   "cell_type": "code",
   "execution_count": 14,
   "metadata": {},
   "outputs": [],
   "source": [
    "# be.drop(['Unnamed: 0'], axis=1, inplace=True)\n",
    "# pa.to_pickle('./pa_1M.pkl')\n",
    "# do.to_pickle('./do_1M.pkl')\n",
    "# con.to_pickle('./port_scan_1M.pkl')\n",
    "be.to_pickle('./be_1M.pkl')"
   ]
  },
  {
   "cell_type": "code",
   "execution_count": null,
   "metadata": {},
   "outputs": [],
   "source": []
  }
 ],
 "metadata": {
  "kernelspec": {
   "display_name": "Python 3",
   "language": "python",
   "name": "python3"
  },
  "language_info": {
   "codemirror_mode": {
    "name": "ipython",
    "version": 3
   },
   "file_extension": ".py",
   "mimetype": "text/x-python",
   "name": "python",
   "nbconvert_exporter": "python",
   "pygments_lexer": "ipython3",
   "version": "3.10.6"
  },
  "orig_nbformat": 4
 },
 "nbformat": 4,
 "nbformat_minor": 2
}
