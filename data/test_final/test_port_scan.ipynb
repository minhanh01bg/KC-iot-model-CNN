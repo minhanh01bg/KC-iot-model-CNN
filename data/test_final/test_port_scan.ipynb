{
 "cells": [
  {
   "cell_type": "code",
   "execution_count": 6,
   "metadata": {},
   "outputs": [],
   "source": [
    "import pandas as pd\n",
    "import numpy as np\n",
    "import os"
   ]
  },
  {
   "cell_type": "code",
   "execution_count": 8,
   "metadata": {},
   "outputs": [],
   "source": [
    "port_scan = pd.read_csv('./ddos_3.csv')"
   ]
  },
  {
   "cell_type": "code",
   "execution_count": 9,
   "metadata": {},
   "outputs": [
    {
     "name": "stdout",
     "output_type": "stream",
     "text": [
      "<class 'pandas.core.frame.DataFrame'>\n",
      "RangeIndex: 5792920 entries, 0 to 5792919\n",
      "Data columns (total 84 columns):\n",
      " #   Column             Dtype  \n",
      "---  ------             -----  \n",
      " 0   Flow ID            object \n",
      " 1   Src IP             object \n",
      " 2   Src Port           int64  \n",
      " 3   Dst IP             object \n",
      " 4   Dst Port           int64  \n",
      " 5   Protocol           int64  \n",
      " 6   Timestamp          object \n",
      " 7   Flow Duration      int64  \n",
      " 8   Tot Fwd Pkts       int64  \n",
      " 9   Tot Bwd Pkts       int64  \n",
      " 10  TotLen Fwd Pkts    float64\n",
      " 11  TotLen Bwd Pkts    float64\n",
      " 12  Fwd Pkt Len Max    float64\n",
      " 13  Fwd Pkt Len Min    float64\n",
      " 14  Fwd Pkt Len Mean   float64\n",
      " 15  Fwd Pkt Len Std    float64\n",
      " 16  Bwd Pkt Len Max    float64\n",
      " 17  Bwd Pkt Len Min    float64\n",
      " 18  Bwd Pkt Len Mean   float64\n",
      " 19  Bwd Pkt Len Std    float64\n",
      " 20  Flow Byts/s        float64\n",
      " 21  Flow Pkts/s        float64\n",
      " 22  Flow IAT Mean      float64\n",
      " 23  Flow IAT Std       float64\n",
      " 24  Flow IAT Max       float64\n",
      " 25  Flow IAT Min       float64\n",
      " 26  Fwd IAT Tot        float64\n",
      " 27  Fwd IAT Mean       float64\n",
      " 28  Fwd IAT Std        float64\n",
      " 29  Fwd IAT Max        float64\n",
      " 30  Fwd IAT Min        float64\n",
      " 31  Bwd IAT Tot        float64\n",
      " 32  Bwd IAT Mean       float64\n",
      " 33  Bwd IAT Std        float64\n",
      " 34  Bwd IAT Max        float64\n",
      " 35  Bwd IAT Min        float64\n",
      " 36  Fwd PSH Flags      int64  \n",
      " 37  Bwd PSH Flags      int64  \n",
      " 38  Fwd URG Flags      int64  \n",
      " 39  Bwd URG Flags      int64  \n",
      " 40  Fwd Header Len     int64  \n",
      " 41  Bwd Header Len     int64  \n",
      " 42  Fwd Pkts/s         float64\n",
      " 43  Bwd Pkts/s         float64\n",
      " 44  Pkt Len Min        float64\n",
      " 45  Pkt Len Max        float64\n",
      " 46  Pkt Len Mean       float64\n",
      " 47  Pkt Len Std        float64\n",
      " 48  Pkt Len Var        float64\n",
      " 49  FIN Flag Cnt       int64  \n",
      " 50  SYN Flag Cnt       int64  \n",
      " 51  RST Flag Cnt       int64  \n",
      " 52  PSH Flag Cnt       int64  \n",
      " 53  ACK Flag Cnt       int64  \n",
      " 54  URG Flag Cnt       int64  \n",
      " 55  CWE Flag Count     int64  \n",
      " 56  ECE Flag Cnt       int64  \n",
      " 57  Down/Up Ratio      float64\n",
      " 58  Pkt Size Avg       float64\n",
      " 59  Fwd Seg Size Avg   float64\n",
      " 60  Bwd Seg Size Avg   float64\n",
      " 61  Fwd Byts/b Avg     int64  \n",
      " 62  Fwd Pkts/b Avg     int64  \n",
      " 63  Fwd Blk Rate Avg   int64  \n",
      " 64  Bwd Byts/b Avg     int64  \n",
      " 65  Bwd Pkts/b Avg     int64  \n",
      " 66  Bwd Blk Rate Avg   int64  \n",
      " 67  Subflow Fwd Pkts   int64  \n",
      " 68  Subflow Fwd Byts   int64  \n",
      " 69  Subflow Bwd Pkts   int64  \n",
      " 70  Subflow Bwd Byts   int64  \n",
      " 71  Init Fwd Win Byts  int64  \n",
      " 72  Init Bwd Win Byts  int64  \n",
      " 73  Fwd Act Data Pkts  int64  \n",
      " 74  Fwd Seg Size Min   int64  \n",
      " 75  Active Mean        float64\n",
      " 76  Active Std         float64\n",
      " 77  Active Max         float64\n",
      " 78  Active Min         float64\n",
      " 79  Idle Mean          float64\n",
      " 80  Idle Std           float64\n",
      " 81  Idle Max           float64\n",
      " 82  Idle Min           float64\n",
      " 83  Label              object \n",
      "dtypes: float64(45), int64(34), object(5)\n",
      "memory usage: 3.6+ GB\n"
     ]
    }
   ],
   "source": [
    "port_scan.info()"
   ]
  },
  {
   "cell_type": "code",
   "execution_count": 10,
   "metadata": {},
   "outputs": [],
   "source": [
    "port_scan.drop(['Flow ID', 'Src IP', 'Src Port', 'Dst IP'], axis=1, inplace=True)\n",
    "port_scan.drop(['Timestamp'], axis=1, inplace=True)\n",
    "port_scan.drop(['Protocol','Dst Port'],axis=1,inplace=True)\n",
    "port_scan.drop(['Idle Mean', 'Idle Std', 'Idle Max', 'Idle Min'], axis=1,inplace=True)\n",
    "port_scan['Label'].replace('NeedManualLabel','Port_scan',inplace=True)"
   ]
  },
  {
   "cell_type": "code",
   "execution_count": 11,
   "metadata": {},
   "outputs": [
    {
     "name": "stdout",
     "output_type": "stream",
     "text": [
      "Port_scan    5792920\n",
      "Name: Label, dtype: int64\n",
      "5660911\n"
     ]
    }
   ],
   "source": [
    "print(port_scan['Label'].value_counts())\n",
    "print(port_scan.duplicated().sum())"
   ]
  }
 ],
 "metadata": {
  "kernelspec": {
   "display_name": "Python 3",
   "language": "python",
   "name": "python3"
  },
  "language_info": {
   "codemirror_mode": {
    "name": "ipython",
    "version": 3
   },
   "file_extension": ".py",
   "mimetype": "text/x-python",
   "name": "python",
   "nbconvert_exporter": "python",
   "pygments_lexer": "ipython3",
   "version": "3.10.6"
  },
  "orig_nbformat": 4,
  "vscode": {
   "interpreter": {
    "hash": "6a3ffae8020a817511732d4d0fe02060948831585d778b076daf6741c73f247a"
   }
  }
 },
 "nbformat": 4,
 "nbformat_minor": 2
}
