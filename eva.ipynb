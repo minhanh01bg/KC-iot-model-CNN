{
 "cells": [
  {
   "cell_type": "code",
   "execution_count": 1,
   "metadata": {},
   "outputs": [],
   "source": [
    "from tensorflow.keras.models import Sequential,Model\n",
    "from tensorflow.keras.applications.vgg16 import VGG16\n",
    "from tensorflow.keras.layers import Dense,Conv1D,Conv2D,Flatten,BatchNormalization,MaxPooling1D,Dropout,Input\n",
    "from tensorflow.keras.layers import concatenate\n",
    "from tensorflow.keras.layers import GlobalAveragePooling2D,GlobalMaxPooling2D,MaxPooling2D,ZeroPadding2D,AveragePooling2D\n",
    "from tensorflow.keras.layers import Activation,Add,Reshape,Permute,LeakyReLU,UpSampling2D,Conv2DTranspose,Concatenate\n",
    "from tensorflow.keras.layers import Lambda,InputSpec,Layer,Input,Add,ZeroPadding2D,UpSampling2D,MaxPooling2D,Conv2D,Bidirectional,LSTM\n",
    "from tensorflow.keras.callbacks import ModelCheckpoint,EarlyStopping,ReduceLROnPlateau,TensorBoard\n",
    "from tensorflow.keras.models import load_model\n",
    "from tensorflow.keras.preprocessing.image import ImageDataGenerator\n",
    "from tensorflow.keras.applications import VGG16\n",
    "from tensorflow.keras.applications.vgg16 import preprocess_input\n",
    "import tensorflow as tf\n",
    "import matplotlib.pyplot as plt\n",
    "import seaborn as sns\n",
    "import pandas as pd\n",
    "import numpy as np\n",
    "from sklearn.model_selection import train_test_split\n",
    "from sklearn.preprocessing import LabelEncoder,StandardScaler\n",
    "from sklearn.utils import resample\n",
    "from tensorflow.keras.utils import to_categorical\n",
    "from sklearn.preprocessing import OneHotEncoder\n",
    "from tensorflow.keras.optimizers import Adam,SGD\n",
    "import datetime\n",
    "from tensorflow.keras.utils import plot_model\n",
    "import os\n",
    "import json\n",
    "\n",
    "\n",
    "# def load_dataset():\n",
    "\n",
    "# ddata1 = pd.read_pickle('./test/benign_test.pkl')\n",
    "# ddata2 = pd.read_pickle('./test/Password_attack.pkl')\n",
    "# ddata3 = pd.read_pickle('./test/DDOS.pkl')\n",
    "# ddata = pd.concat([ddata1,ddata2,ddata3],axis=0)\n",
    "# ddata = pd.read_pickle('./test/DDOS.pkl')\n",
    "# ddata = pd.read_pickle('./data/data/port_scan_all_2_1M.pkl')\n",
    "ddata = pd.read_csv('./test.csv')\n",
    "# ddata = pd.read_pickle('./data/')\n",
    "# print(ddata.shape)\n",
    "# print(ddata.columns)"
   ]
  },
  {
   "cell_type": "code",
   "execution_count": 2,
   "metadata": {},
   "outputs": [
    {
     "name": "stdout",
     "output_type": "stream",
     "text": [
      "(4971, 80)\n"
     ]
    }
   ],
   "source": [
    "print(ddata.shape)"
   ]
  },
  {
   "cell_type": "code",
   "execution_count": 3,
   "metadata": {},
   "outputs": [],
   "source": [
    "\n",
    "def preprocessing_predict(ddata):\n",
    "        namere = {\n",
    "                'ack_flag_cnt':'ACK Flag Cnt',\n",
    "                'active_max' :'Active Max',\n",
    "                'active_mean' :'Active Mean',\n",
    "                'active_min' :'Active Min',\n",
    "                'active_std' :'Active Std',\n",
    "                'bwd_blk_rate_avg' :'Bwd Blk Rate Avg',\n",
    "                'bwd_byts_b_avg' :'Bwd Byts/b Avg',\n",
    "                'bwd_header_len': 'Bwd Header Len',\n",
    "                'bwd_iat_max' :'Bwd IAT Max',\n",
    "                'bwd_iat_mean' :'Bwd IAT Mean',\n",
    "                'bwd_iat_min' :'Bwd IAT Min',\n",
    "                'bwd_iat_std' :'Bwd IAT Std',\n",
    "                'bwd_iat_tot' :'Bwd IAT Tot',\n",
    "                'bwd_pkt_len_max' :'Bwd Pkt Len Max',\n",
    "                'bwd_pkt_len_mean' :'Bwd Pkt Len Mean',\n",
    "                'bwd_pkt_len_min' :'Bwd Pkt Len Min',\n",
    "                'bwd_pkt_len_std' :'Bwd Pkt Len Std',\n",
    "                'bwd_pkts_b_avg' :'Bwd Pkts/b Avg',\n",
    "                'bwd_pkts_s' :'Bwd Pkts/s',\n",
    "                'bwd_psh_flags' :'Bwd PSH Flags',#Bwd PSH Flags\n",
    "                'bwd_seg_size_avg' :'Bwd Seg Size Avg',\n",
    "                'bwd_urg_flags' :'Bwd URG Flags',\n",
    "                'cwe_flag_count' :'CWE Flag Count',\n",
    "                'down_up_ratio' :'Down/Up Ratio',\n",
    "                'dst_port' :'Dst Port',\n",
    "                'ece_flag_cnt':'ECE Flag Cnt',\n",
    "                'fin_flag_cnt':'FIN Flag Cnt',\n",
    "                'flow_byts_s' :'Flow Byts/s',\n",
    "                'flow_duration' :'Flow Duration',\n",
    "                'flow_iat_max' :'Flow IAT Max',\n",
    "                'flow_iat_mean' :'Flow IAT Mean',\n",
    "                'flow_iat_min' :'Flow IAT Min',\n",
    "                'flow_iat_std' :'Flow IAT Std',\n",
    "                'flow_pkts_s' :'Flow Pkts/s',\n",
    "                'fwd_act_data_pkts' :'Fwd Act Data Pkts',\n",
    "                'fwd_blk_rate_avg' :'Fwd Blk Rate Avg',\n",
    "                'fwd_byts_b_avg' :'Fwd Byts/b Avg',\n",
    "                'fwd_header_len' :'Fwd Header Len',\n",
    "                'fwd_iat_max' :'Fwd IAT Max',\n",
    "                'fwd_iat_mean' :'Fwd IAT Mean',\n",
    "                'fwd_iat_min' :'Fwd IAT Min',\n",
    "                'fwd_iat_std' :'Fwd IAT Std',\n",
    "                'fwd_iat_tot' :'Fwd IAT Tot',\n",
    "                'fwd_pkt_len_max' :'Fwd Pkt Len Max',\n",
    "                'fwd_pkt_len_mean' :'Fwd Pkt Len Mean',\n",
    "                'fwd_pkt_len_min' :'Fwd Pkt Len Min',\n",
    "                'fwd_pkt_len_std' :'Fwd Pkt Len Std',\n",
    "                'fwd_pkts_b_avg' :'Fwd Pkts/b Avg',\n",
    "                'fwd_pkts_s' :'Fwd Pkts/s',\n",
    "                'fwd_psh_flags' :'Fwd PSH Flags', #\n",
    "                'fwd_seg_size_avg' :'Fwd Seg Size Avg',\n",
    "                'fwd_seg_size_min' :'Fwd Seg Size Min',\n",
    "                'fwd_urg_flags' :'Fwd URG Flags',\n",
    "                'idle_max' :'Idle Max',\n",
    "                'idle_mean' :'Idle Mean',\n",
    "                'idle_min' :'Idle Min',\n",
    "                'idle_std' :'Idle Std',\n",
    "                'init_bwd_win_byts' :'Init Bwd Win Byts',\n",
    "                'init_fwd_win_byts' :'Init Fwd Win Byts',\n",
    "                'pkt_len_max' :'Pkt Len Max',\n",
    "                'pkt_len_mean' :'Pkt Len Mean',\n",
    "                'pkt_len_min' :'Pkt Len Min',\n",
    "                'pkt_len_std' :'Pkt Len Std',\n",
    "                'pkt_len_var' :'Pkt Len Var',\n",
    "                'pkt_size_avg' :'Pkt Size Avg',\n",
    "                'protocol' :'Protocol',\n",
    "                'psh_flag_cnt' :'PSH Flag Cnt',#\n",
    "                'rst_flag_cnt' :'RST Flag Cnt',\n",
    "                'subflow_bwd_byts' :'Subflow Bwd Byts',\n",
    "                'subflow_bwd_pkts' :'Subflow Bwd Pkts',\n",
    "                'subflow_fwd_byts' :'Subflow Fwd Byts',\n",
    "                'subflow_fwd_pkts' :'Subflow Fwd Pkts',\n",
    "                'syn_flag_cnt' :'SYN Flag Cnt',#\n",
    "                'timestamp' :'Timestamp',\n",
    "                'tot_bwd_pkts' :'Tot Bwd Pkts',\n",
    "                'tot_fwd_pkts' :'Tot Fwd Pkts',\n",
    "                'totlen_bwd_pkts' :'TotLen Bwd Pkts',\n",
    "                'totlen_fwd_pkts' :'TotLen Fwd Pkts',\n",
    "                'urg_flag_cnt' :'URG Flag Cnt'\n",
    "        }\n",
    "        ddata = ddata.rename(columns=namere)\n",
    "        # ddata.drop(['Timestamp','Label'],axis=1,inplace=True)\n",
    "        df = ddata\n",
    "        df_ip = df[['src_ip', 'dst_ip']]\n",
    "        # Remove missing values\n",
    "        df.dropna(axis=0, inplace=True, how=\"any\")\n",
    "        # Replace infinite values to NaN\n",
    "        df.replace([-np.inf, np.inf], np.nan, inplace=True)\n",
    "\n",
    "        # Remove infinte values\n",
    "        df.dropna(axis=0, how='any', inplace=True)\n",
    "\n",
    "        # drop columns \n",
    "        colu= ['Bwd PSH Flags', 'Fwd URG Flags', 'Bwd URG Flags', 'CWE Flag Count', 'Fwd Byts/b Avg', 'Fwd Pkts/b Avg', 'Fwd Blk Rate Avg']\n",
    "        df.drop(colu,axis=1,inplace=True)\n",
    "        # convert to numeric\n",
    "        df[['Flow Byts/s', 'Flow Pkts/s']] = df[['Flow Byts/s', 'Flow Pkts/s']].apply(pd.to_numeric)\n",
    "        # drop columns \n",
    "        colu = ['Flow Duration', 'Tot Fwd Pkts', 'Tot Bwd Pkts', 'TotLen Fwd Pkts', 'TotLen Bwd Pkts', 'Fwd Pkt Len Mean', 'Bwd Pkt Len Mean', 'Flow Pkts/s', 'Flow IAT Mean', 'Flow IAT Std', 'Flow IAT Max', 'Flow IAT Min', 'Bwd Header Len', 'Pkt Len Mean', 'Bwd Byts/b Avg', 'Subflow Bwd Pkts', 'Idle Mean', 'Idle Max']\n",
    "        df.drop(colu,axis=1,inplace=True)\n",
    "        df_ip = df[['src_ip', 'dst_ip']]\n",
    "        from pickle import load\n",
    "        scaler = load(open('./normalization/preprocessor_v2_update_port_scan_2023-03-04-18-33-04.pkl', 'rb'))\n",
    "        # normalization\n",
    "        numeric_features = ['Dst Port', 'Protocol', 'Fwd Pkt Len Max', 'Fwd Pkt Len Min',\n",
    "        'Fwd Pkt Len Std', 'Bwd Pkt Len Max', 'Bwd Pkt Len Min',\n",
    "        'Bwd Pkt Len Std', 'Flow Byts/s', 'Fwd IAT Tot', 'Fwd IAT Mean',\n",
    "        'Fwd IAT Std', 'Fwd IAT Max', 'Fwd IAT Min', 'Bwd IAT Tot',\n",
    "        'Bwd IAT Mean', 'Bwd IAT Std', 'Bwd IAT Max', 'Bwd IAT Min',\n",
    "        'Fwd PSH Flags', 'Fwd Header Len', 'Fwd Pkts/s', 'Bwd Pkts/s',\n",
    "        'Pkt Len Min', 'Pkt Len Max', 'Pkt Len Std', 'Pkt Len Var',\n",
    "        'FIN Flag Cnt', 'SYN Flag Cnt', 'RST Flag Cnt', 'PSH Flag Cnt',\n",
    "        'ACK Flag Cnt', 'URG Flag Cnt', 'ECE Flag Cnt', 'Down/Up Ratio',\n",
    "        'Pkt Size Avg', 'Fwd Seg Size Avg', 'Bwd Seg Size Avg',\n",
    "        'Bwd Pkts/b Avg', 'Bwd Blk Rate Avg', 'Subflow Fwd Pkts',\n",
    "        'Subflow Fwd Byts', 'Subflow Bwd Byts', 'Init Fwd Win Byts',\n",
    "        'Init Bwd Win Byts', 'Fwd Act Data Pkts', 'Fwd Seg Size Min',\n",
    "        'Active Mean', 'Active Std', 'Active Max', 'Active Min', 'Idle Std',\n",
    "        'Idle Min']\n",
    "        df = pd.DataFrame(scaler.transform(df), columns=numeric_features)\n",
    "        # print(df.columns)\n",
    "        df = df.to_numpy().reshape(df.shape[0],df.shape[1],1)\n",
    "        # 1. load model\n",
    "        print(df.shape)\n",
    "        model = load_model('./models/2023-03-04-18-33-04/model_2023-03-04-18-33-04.h5')\n",
    "        # 2. predict\n",
    "        y_pred = model.predict([df,df,df])\n",
    "        y_pred = np.argmax(y_pred, axis=1)\n",
    "        y_pred = pd.DataFrame(y_pred, columns=['label'])\n",
    "        y_pred['label'].value_counts()\n",
    "        y_pred['label'].value_counts().plot(kind='bar')\n",
    "        ans = pd.concat([df_ip, y_pred], axis=1)\n",
    "        return ans\n",
    "\n",
    "def preprocessing_predict1(ddata):\n",
    "        ddata.drop(['Timestamp'],axis=1,inplace=True)  \n",
    "        # ddata.drop(['Label'],axis=1,inplace=True)\n",
    "        df = ddata\n",
    "        # Remove missing values\n",
    "        df.dropna(axis=0, inplace=True, how=\"any\")\n",
    "        # Replace infinite values to NaN\n",
    "        df.replace([-np.inf, np.inf], np.nan, inplace=True)\n",
    "\n",
    "        # Remove infinte values\n",
    "        df.dropna(axis=0, how='any', inplace=True)\n",
    "\n",
    "        # drop columns \n",
    "        colu= ['Bwd PSH Flags', 'Fwd URG Flags', 'Bwd URG Flags', 'CWE Flag Count', 'Fwd Byts/b Avg', 'Fwd Pkts/b Avg', 'Fwd Blk Rate Avg']\n",
    "        df.drop(colu,axis=1,inplace=True)\n",
    "        # convert to numeric\n",
    "        df[['Flow Byts/s', 'Flow Pkts/s']] = df[['Flow Byts/s', 'Flow Pkts/s']].apply(pd.to_numeric)\n",
    "        # drop columns \n",
    "        colu = ['Flow Duration', 'Tot Fwd Pkts', 'Tot Bwd Pkts', 'TotLen Fwd Pkts', 'TotLen Bwd Pkts', 'Fwd Pkt Len Mean', 'Bwd Pkt Len Mean', 'Flow Pkts/s', 'Flow IAT Mean', 'Flow IAT Std', 'Flow IAT Max', 'Flow IAT Min', 'Bwd Header Len', 'Pkt Len Mean', 'Bwd Byts/b Avg', 'Subflow Bwd Pkts', 'Idle Mean', 'Idle Max']\n",
    "        df.drop(colu,axis=1,inplace=True)\n",
    "        \n",
    "        df['Label'].replace(['Benign'], 0, inplace=True)\n",
    "        df['Label'].replace(['Port_scan'], 3, inplace=True)\n",
    "        df['Label'].replace(['DDOS'], 1, inplace=True)\n",
    "        df['Label'].replace(['Password_attack'], 2, inplace=True)\n",
    "        y = df['Label']\n",
    "        df = df.drop(['Label'],axis=1)\n",
    "\n",
    "        from pickle import load\n",
    "        scaler = load(open('./normalization/preprocessor_v2_update_port_scan_2023-03-04-18-33-04.pkl', 'rb'))\n",
    "        # normalization\n",
    "        numeric_features = ['Dst Port', 'Protocol', 'Fwd Pkt Len Max', 'Fwd Pkt Len Min',\n",
    "        'Fwd Pkt Len Std', 'Bwd Pkt Len Max', 'Bwd Pkt Len Min',\n",
    "        'Bwd Pkt Len Std', 'Flow Byts/s', 'Fwd IAT Tot', 'Fwd IAT Mean',\n",
    "        'Fwd IAT Std', 'Fwd IAT Max', 'Fwd IAT Min', 'Bwd IAT Tot',\n",
    "        'Bwd IAT Mean', 'Bwd IAT Std', 'Bwd IAT Max', 'Bwd IAT Min',\n",
    "        'Fwd PSH Flags', 'Fwd Header Len', 'Fwd Pkts/s', 'Bwd Pkts/s',\n",
    "        'Pkt Len Min', 'Pkt Len Max', 'Pkt Len Std', 'Pkt Len Var',\n",
    "        'FIN Flag Cnt', 'SYN Flag Cnt', 'RST Flag Cnt', 'PSH Flag Cnt',\n",
    "        'ACK Flag Cnt', 'URG Flag Cnt', 'ECE Flag Cnt', 'Down/Up Ratio',\n",
    "        'Pkt Size Avg', 'Fwd Seg Size Avg', 'Bwd Seg Size Avg',\n",
    "        'Bwd Pkts/b Avg', 'Bwd Blk Rate Avg', 'Subflow Fwd Pkts',\n",
    "        'Subflow Fwd Byts', 'Subflow Bwd Byts', 'Init Fwd Win Byts',\n",
    "        'Init Bwd Win Byts', 'Fwd Act Data Pkts', 'Fwd Seg Size Min',\n",
    "        'Active Mean', 'Active Std', 'Active Max', 'Active Min', 'Idle Std',\n",
    "        'Idle Min']\n",
    "        df = pd.DataFrame(scaler.transform(df), columns=numeric_features)\n",
    "        df = df.to_numpy().reshape(df.shape[0],df.shape[1],1)\n",
    "        # 1. load model\n",
    "        model = load_model('./models/2023-03-04-18-33-04/model_2023-03-04-18-33-04.h5')\n",
    "        # 2. predict\n",
    "        y_pred = model.predict([df,df,df],batch_size=512)\n",
    "        y_pred = np.argmax(y_pred, axis=1)\n",
    "        y_pred = pd.DataFrame(y_pred, columns=['label'])\n",
    "        y_pred['label'].value_counts()\n",
    "        y_pred['label'].value_counts().plot(kind='bar')\n",
    "\n",
    "        return y_pred,y\n"
   ]
  },
  {
   "cell_type": "code",
   "execution_count": 4,
   "metadata": {},
   "outputs": [
    {
     "name": "stderr",
     "output_type": "stream",
     "text": [
      "C:\\Users\\Admin\\AppData\\Roaming\\Python\\Python310\\site-packages\\sklearn\\base.py:318: UserWarning: Trying to unpickle estimator OneHotEncoder from version 1.2.1 when using version 1.2.2. This might lead to breaking code or invalid results. Use at your own risk. For more info please refer to:\n",
      "https://scikit-learn.org/stable/model_persistence.html#security-maintainability-limitations\n",
      "  warnings.warn(\n",
      "C:\\Users\\Admin\\AppData\\Roaming\\Python\\Python310\\site-packages\\sklearn\\base.py:318: UserWarning: Trying to unpickle estimator QuantileTransformer from version 1.2.1 when using version 1.2.2. This might lead to breaking code or invalid results. Use at your own risk. For more info please refer to:\n",
      "https://scikit-learn.org/stable/model_persistence.html#security-maintainability-limitations\n",
      "  warnings.warn(\n",
      "C:\\Users\\Admin\\AppData\\Roaming\\Python\\Python310\\site-packages\\sklearn\\base.py:318: UserWarning: Trying to unpickle estimator QuantileTransformer from version 1.2.1 when using version 1.2.2. This might lead to breaking code or invalid results. Use at your own risk. For more info please refer to:\n",
      "https://scikit-learn.org/stable/model_persistence.html#security-maintainability-limitations\n",
      "  warnings.warn(\n",
      "C:\\Users\\Admin\\AppData\\Roaming\\Python\\Python310\\site-packages\\sklearn\\base.py:318: UserWarning: Trying to unpickle estimator ColumnTransformer from version 1.2.1 when using version 1.2.2. This might lead to breaking code or invalid results. Use at your own risk. For more info please refer to:\n",
      "https://scikit-learn.org/stable/model_persistence.html#security-maintainability-limitations\n",
      "  warnings.warn(\n"
     ]
    },
    {
     "name": "stdout",
     "output_type": "stream",
     "text": [
      "10/10 [==============================] - 0s 12ms/step\n"
     ]
    },
    {
     "data": {
      "image/png": "[encoded data removed]",
      "text/plain": [
       "<Figure size 640x480 with 1 Axes>"
      ]
     },
     "metadata": {},
     "output_type": "display_data"
    }
   ],
   "source": [
    "y_pred,y = preprocessing_predict1(ddata)"
   ]
  },
  {
   "cell_type": "code",
   "execution_count": 5,
   "metadata": {},
   "outputs": [
    {
     "name": "stdout",
     "output_type": "stream",
     "text": [
      "      label\n",
      "0         3\n",
      "1         3\n",
      "2         3\n",
      "3         3\n",
      "4         3\n",
      "...     ...\n",
      "4966      3\n",
      "4967      3\n",
      "4968      3\n",
      "4969      3\n",
      "4970      3\n",
      "\n",
      "[4971 rows x 1 columns]\n"
     ]
    }
   ],
   "source": [
    "print(y_pred)\n",
    "# DDOS = 1 [1930824 rows x 1 columns] 0.9991759994696565\n",
    "# Password_attack = 2 [347034 rows x 1 columns] 1.0\n",
    "# Benign = 0 [0 rows x 1 columns] 1.0"
   ]
  },
  {
   "cell_type": "code",
   "execution_count": 6,
   "metadata": {},
   "outputs": [],
   "source": [
    "yhat_= np.full(y_pred.shape, 1)\n",
    "# print(y)"
   ]
  },
  {
   "cell_type": "code",
   "execution_count": 7,
   "metadata": {},
   "outputs": [
    {
     "name": "stdout",
     "output_type": "stream",
     "text": [
      "0       1\n",
      "1       1\n",
      "2       1\n",
      "3       1\n",
      "4       1\n",
      "       ..\n",
      "4966    1\n",
      "4967    1\n",
      "4968    1\n",
      "4969    1\n",
      "4970    1\n",
      "Name: Label, Length: 4971, dtype: int64\n"
     ]
    }
   ],
   "source": [
    "print(y)"
   ]
  },
  {
   "cell_type": "code",
   "execution_count": 8,
   "metadata": {},
   "outputs": [],
   "source": [
    "# from sklearn.metrics import confusion_matrix,accuracy_score\n",
    "# print(accuracy_score(y_pred,y))\n",
    "# print(confusion_matrix(y_pred,y))"
   ]
  },
  {
   "cell_type": "code",
   "execution_count": 9,
   "metadata": {},
   "outputs": [],
   "source": [
    "import os\n",
    "os.environ['TF_CPP_MIN_LOG_LEVEL'] = '0' \n",
    "import tensorflow as tf"
   ]
  },
  {
   "cell_type": "code",
   "execution_count": 1,
   "metadata": {},
   "outputs": [],
   "source": [
    "import tensorflow as tf\n",
    "tf.get_logger().setLevel('INFO')\n"
   ]
  },
  {
   "cell_type": "code",
   "execution_count": 2,
   "metadata": {},
   "outputs": [],
   "source": [
    "import tensorflow as tf\n",
    "tf.get_logger().setLevel('INFO')\n"
   ]
  },
  {
   "cell_type": "code",
   "execution_count": 3,
   "metadata": {},
   "outputs": [
    {
     "data": {
      "text/plain": [
       "[]"
      ]
     },
     "execution_count": 3,
     "metadata": {},
     "output_type": "execute_result"
    }
   ],
   "source": [
    "tf.config.list_physical_devices('GPU')"
   ]
  }
 ],
 "metadata": {
  "kernelspec": {
   "display_name": "Python 3",
   "language": "python",
   "name": "python3"
  },
  "language_info": {
   "codemirror_mode": {
    "name": "ipython",
    "version": 3
   },
   "file_extension": ".py",
   "mimetype": "text/x-python",
   "name": "python",
   "nbconvert_exporter": "python",
   "pygments_lexer": "ipython3",
   "version": "3.10.6"
  },
  "orig_nbformat": 4
 },
 "nbformat": 4,
 "nbformat_minor": 2
}
