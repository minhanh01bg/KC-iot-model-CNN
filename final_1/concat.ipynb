{
 "cells": [
  {
   "cell_type": "code",
   "execution_count": 28,
   "metadata": {},
   "outputs": [],
   "source": [
    "import pandas as pd\n",
    "import numpy as np\n",
    "import os"
   ]
  },
  {
   "cell_type": "code",
   "execution_count": 29,
   "metadata": {},
   "outputs": [],
   "source": [
    "ddos = pd.read_csv('./ddos.csv')\n",
    "password_attack = pd.read_csv('./password_attack.csv')\n",
    "benign = pd.read_csv('./02-20-2018.csv')\n",
    "port_scan = pd.read_csv('./port_scan_all.csv')\n",
    "port_scan1 = pd.read_csv('./port_scan_2.csv')"
   ]
  },
  {
   "cell_type": "code",
   "execution_count": 30,
   "metadata": {},
   "outputs": [],
   "source": [
    "benign.drop(['Dst IP',\n",
    "'Flow ID',\n",
    "'Src IP',\n",
    "'Src Port'],inplace=True,axis=1)"
   ]
  },
  {
   "cell_type": "code",
   "execution_count": 38,
   "metadata": {},
   "outputs": [
    {
     "name": "stdout",
     "output_type": "stream",
     "text": [
      "<class 'pandas.core.frame.DataFrame'>\n",
      "Int64Index: 200000 entries, 0 to 49999\n",
      "Data columns (total 80 columns):\n",
      " #   Column             Non-Null Count   Dtype  \n",
      "---  ------             --------------   -----  \n",
      " 0   Dst Port           200000 non-null  int64  \n",
      " 1   Protocol           200000 non-null  int64  \n",
      " 2   Timestamp          200000 non-null  object \n",
      " 3   Flow Duration      200000 non-null  int64  \n",
      " 4   Tot Fwd Pkts       200000 non-null  int64  \n",
      " 5   Tot Bwd Pkts       200000 non-null  int64  \n",
      " 6   TotLen Fwd Pkts    200000 non-null  float64\n",
      " 7   TotLen Bwd Pkts    200000 non-null  float64\n",
      " 8   Fwd Pkt Len Max    200000 non-null  float64\n",
      " 9   Fwd Pkt Len Min    200000 non-null  float64\n",
      " 10  Fwd Pkt Len Mean   200000 non-null  float64\n",
      " 11  Fwd Pkt Len Std    200000 non-null  float64\n",
      " 12  Bwd Pkt Len Max    200000 non-null  float64\n",
      " 13  Bwd Pkt Len Min    200000 non-null  float64\n",
      " 14  Bwd Pkt Len Mean   200000 non-null  float64\n",
      " 15  Bwd Pkt Len Std    200000 non-null  float64\n",
      " 16  Flow Byts/s        199526 non-null  float64\n",
      " 17  Flow Pkts/s        200000 non-null  float64\n",
      " 18  Flow IAT Mean      200000 non-null  float64\n",
      " 19  Flow IAT Std       200000 non-null  float64\n",
      " 20  Flow IAT Max       200000 non-null  float64\n",
      " 21  Flow IAT Min       200000 non-null  float64\n",
      " 22  Fwd IAT Tot        200000 non-null  float64\n",
      " 23  Fwd IAT Mean       200000 non-null  float64\n",
      " 24  Fwd IAT Std        200000 non-null  float64\n",
      " 25  Fwd IAT Max        200000 non-null  float64\n",
      " 26  Fwd IAT Min        200000 non-null  float64\n",
      " 27  Bwd IAT Tot        200000 non-null  float64\n",
      " 28  Bwd IAT Mean       200000 non-null  float64\n",
      " 29  Bwd IAT Std        200000 non-null  float64\n",
      " 30  Bwd IAT Max        200000 non-null  float64\n",
      " 31  Bwd IAT Min        200000 non-null  float64\n",
      " 32  Fwd PSH Flags      200000 non-null  int64  \n",
      " 33  Bwd PSH Flags      200000 non-null  int64  \n",
      " 34  Fwd URG Flags      200000 non-null  int64  \n",
      " 35  Bwd URG Flags      200000 non-null  int64  \n",
      " 36  Fwd Header Len     200000 non-null  int64  \n",
      " 37  Bwd Header Len     200000 non-null  int64  \n",
      " 38  Fwd Pkts/s         200000 non-null  float64\n",
      " 39  Bwd Pkts/s         200000 non-null  float64\n",
      " 40  Pkt Len Min        200000 non-null  float64\n",
      " 41  Pkt Len Max        200000 non-null  float64\n",
      " 42  Pkt Len Mean       200000 non-null  float64\n",
      " 43  Pkt Len Std        200000 non-null  float64\n",
      " 44  Pkt Len Var        200000 non-null  float64\n",
      " 45  FIN Flag Cnt       200000 non-null  int64  \n",
      " 46  SYN Flag Cnt       200000 non-null  int64  \n",
      " 47  RST Flag Cnt       200000 non-null  int64  \n",
      " 48  PSH Flag Cnt       200000 non-null  int64  \n",
      " 49  ACK Flag Cnt       200000 non-null  int64  \n",
      " 50  URG Flag Cnt       200000 non-null  int64  \n",
      " 51  CWE Flag Count     200000 non-null  int64  \n",
      " 52  ECE Flag Cnt       200000 non-null  int64  \n",
      " 53  Down/Up Ratio      200000 non-null  float64\n",
      " 54  Pkt Size Avg       200000 non-null  float64\n",
      " 55  Fwd Seg Size Avg   200000 non-null  float64\n",
      " 56  Bwd Seg Size Avg   200000 non-null  float64\n",
      " 57  Fwd Byts/b Avg     200000 non-null  int64  \n",
      " 58  Fwd Pkts/b Avg     200000 non-null  int64  \n",
      " 59  Fwd Blk Rate Avg   200000 non-null  int64  \n",
      " 60  Bwd Byts/b Avg     200000 non-null  int64  \n",
      " 61  Bwd Pkts/b Avg     200000 non-null  int64  \n",
      " 62  Bwd Blk Rate Avg   200000 non-null  int64  \n",
      " 63  Subflow Fwd Pkts   200000 non-null  int64  \n",
      " 64  Subflow Fwd Byts   200000 non-null  int64  \n",
      " 65  Subflow Bwd Pkts   200000 non-null  int64  \n",
      " 66  Subflow Bwd Byts   200000 non-null  int64  \n",
      " 67  Init Fwd Win Byts  200000 non-null  int64  \n",
      " 68  Init Bwd Win Byts  200000 non-null  int64  \n",
      " 69  Fwd Act Data Pkts  200000 non-null  int64  \n",
      " 70  Fwd Seg Size Min   200000 non-null  int64  \n",
      " 71  Active Mean        200000 non-null  float64\n",
      " 72  Active Std         200000 non-null  float64\n",
      " 73  Active Max         200000 non-null  float64\n",
      " 74  Active Min         200000 non-null  float64\n",
      " 75  Idle Mean          200000 non-null  float64\n",
      " 76  Idle Std           200000 non-null  float64\n",
      " 77  Idle Max           200000 non-null  float64\n",
      " 78  Idle Min           200000 non-null  float64\n",
      " 79  Label              200000 non-null  object \n",
      "dtypes: float64(45), int64(33), object(2)\n",
      "memory usage: 123.6+ MB\n",
      "None\n"
     ]
    }
   ],
   "source": [
    "# benign = benign[:50000]\n",
    "ddos = ddos[:100000]\n",
    "benign = benign[:100000]\n",
    "password_attack = password_attack[:100000]\n",
    "port_scan = port_scan[:50000]\n",
    "port_scan1 = port_scan1[:50000]\n",
    "# con = pd.concat([ddos, password_attack,benign,port_scan], axis=0)\n",
    "con = pd.concat([ddos, password_attack,port_scan1,port_scan,benign], axis=0)\n",
    "print(con.info())\n",
    "con.to_csv('final_100k.csv', index=False)"
   ]
  },
  {
   "cell_type": "code",
   "execution_count": 32,
   "metadata": {},
   "outputs": [
    {
     "name": "stdout",
     "output_type": "stream",
     "text": [
      "(600000, 80)\n"
     ]
    }
   ],
   "source": [
    "print(con.shape)"
   ]
  },
  {
   "cell_type": "code",
   "execution_count": 33,
   "metadata": {},
   "outputs": [],
   "source": [
    "# con.drop(['Timestamp','Protocol','Dst Port'],axis=1,inplace=True)\n",
    "# con.drop_duplicates(inplace=True)\n",
    "# print(con.duplicated().sum())"
   ]
  },
  {
   "cell_type": "code",
   "execution_count": 34,
   "metadata": {},
   "outputs": [],
   "source": [
    "\n",
    "# con.drop(['Label'],axis=1,inplace=True)\n"
   ]
  },
  {
   "cell_type": "code",
   "execution_count": 35,
   "metadata": {},
   "outputs": [],
   "source": [
    "# print(con.duplicated().sum())"
   ]
  },
  {
   "cell_type": "code",
   "execution_count": 36,
   "metadata": {},
   "outputs": [],
   "source": [
    "# con.value_counts()"
   ]
  }
 ],
 "metadata": {
  "kernelspec": {
   "display_name": "Python 3",
   "language": "python",
   "name": "python3"
  },
  "language_info": {
   "codemirror_mode": {
    "name": "ipython",
    "version": 3
   },
   "file_extension": ".py",
   "mimetype": "text/x-python",
   "name": "python",
   "nbconvert_exporter": "python",
   "pygments_lexer": "ipython3",
   "version": "3.10.6"
  },
  "orig_nbformat": 4,
  "vscode": {
   "interpreter": {
    "hash": "6a3ffae8020a817511732d4d0fe02060948831585d778b076daf6741c73f247a"
   }
  }
 },
 "nbformat": 4,
 "nbformat_minor": 2
}
