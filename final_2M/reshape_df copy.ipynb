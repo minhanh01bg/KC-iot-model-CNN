{
 "cells": [
  {
   "cell_type": "code",
   "execution_count": 109,
   "metadata": {},
   "outputs": [],
   "source": [
    "import numpy as np\n",
    "import pandas as pd\n",
    "import matplotlib.pyplot as plt\n",
    "import seaborn as sns\n",
    "import os\n",
    "import pickle"
   ]
  },
  {
   "cell_type": "code",
   "execution_count": 111,
   "metadata": {},
   "outputs": [],
   "source": [
    "DATA_DIR = './process'\n",
    "def load_pkl():\n",
    "    # X_train = pd.read_pickle(os.path.join(DATA_DIR,'train/train_features_balanced.pkl'))\n",
    "    # y_train = pd.read_pickle(os.path.join(DATA_DIR,'train/train_labels_balanced.pkl'))\n",
    "    X_train = pd.read_pickle(os.path.join(DATA_DIR,'train/train_features.pkl'))\n",
    "    y_train = pd.read_pickle(os.path.join(DATA_DIR,'train/train_labels.pkl'))\n",
    "    X_val = pd.read_pickle(os.path.join(DATA_DIR,'val/val_features.pkl'))\n",
    "    y_val = pd.read_pickle(os.path.join(DATA_DIR,'val/val_labels.pkl'))\n",
    "    X_test = pd.read_pickle(os.path.join(DATA_DIR,'test/test_features.pkl'))\n",
    "    y_test = pd.read_pickle(os.path.join(DATA_DIR,'test/test_labels.pkl'))\n",
    "    return X_train,y_train,X_test,y_test,X_val,y_val\n",
    "\n",
    "X_train,y_train,X_test,y_test,X_val,y_val = load_pkl()"
   ]
  },
  {
   "cell_type": "code",
   "execution_count": 112,
   "metadata": {},
   "outputs": [
    {
     "name": "stdout",
     "output_type": "stream",
     "text": [
      "(223898, 53)\n",
      "(223898, 1)\n"
     ]
    }
   ],
   "source": [
    "# print(df.shape)\n",
    "n = 100\n",
    "print(X_val.shape)\n",
    "y_val = y_val.values.reshape(-1,1)\n",
    "print(y_val.shape)\n",
    "y_val = pd.DataFrame(y_val,columns=['Label'])"
   ]
  },
  {
   "cell_type": "code",
   "execution_count": 113,
   "metadata": {},
   "outputs": [
    {
     "name": "stdout",
     "output_type": "stream",
     "text": [
      "(223898, 54)\n"
     ]
    }
   ],
   "source": [
    "df = pd.concat([X_val,y_val],axis=1)\n",
    "print(df.shape)"
   ]
  },
  {
   "cell_type": "code",
   "execution_count": 114,
   "metadata": {},
   "outputs": [
    {
     "name": "stdout",
     "output_type": "stream",
     "text": [
      "(223898, 54)\n",
      "0    74456\n",
      "3    50350\n",
      "1    49848\n",
      "2    49244\n",
      "Name: Label, dtype: int64\n"
     ]
    }
   ],
   "source": [
    "print(df.shape)\n",
    "print(df['Label'].value_counts())\n",
    "# print(df.info())\n",
    "\n",
    "# print(df['Label'].describe())\n",
    "# print(df['Protocol'].value_counts())"
   ]
  },
  {
   "cell_type": "code",
   "execution_count": 115,
   "metadata": {},
   "outputs": [],
   "source": [
    "# print(df.columns)"
   ]
  },
  {
   "cell_type": "code",
   "execution_count": 116,
   "metadata": {},
   "outputs": [
    {
     "name": "stdout",
     "output_type": "stream",
     "text": [
      "223898\n",
      "49800\n",
      "49200\n",
      "50300\n",
      "74400\n"
     ]
    }
   ],
   "source": [
    "print(len(df))\n",
    "ddos = df[df['Label'] == 1]\n",
    "ddos = ddos[:len(ddos) - (len(ddos) % n)]\n",
    "ddos.drop(['Label'], axis=1, inplace=True)\n",
    "print(len(ddos))\n",
    "\n",
    "password_attack = df[df['Label'] == 2]\n",
    "password_attack = password_attack[:len(password_attack) - (len(password_attack) % n)]\n",
    "password_attack.drop(['Label'], axis=1, inplace=True)\n",
    "print(len(password_attack))\n",
    "\n",
    "port_scan = df[df['Label'] == 3]\n",
    "port_scan = port_scan[:len(port_scan) - (len(port_scan) % n)]\n",
    "port_scan.drop(['Label'], axis=1, inplace=True)\n",
    "print(len(port_scan))\n",
    "\n",
    "benign = df[df['Label'] == 0]\n",
    "benign = benign[:len(benign)- (len(benign) % n)]\n",
    "benign.drop(['Label'], axis=1, inplace=True)\n",
    "print(len(benign))\n",
    "\n",
    "df.drop(['Label'], axis=1, inplace=True)"
   ]
  },
  {
   "cell_type": "code",
   "execution_count": 117,
   "metadata": {},
   "outputs": [],
   "source": [
    "# data_reshape = df.groupby(np.arange(len(df)) // n, axis = 0).apply(lambda x: x.reset_index(drop=True)).unstack()\n",
    "data_ddos = np.reshape(ddos.values, (len(ddos) // n, n, ddos.shape[1]))\n",
    "data_password_attack = np.reshape(password_attack.values, (len(password_attack) // n, n, password_attack.shape[1]))\n",
    "data_port_scan = np.reshape(port_scan.values, (len(port_scan) // n, n, port_scan.shape[1]))\n",
    "data_benign = np.reshape(benign.values, (len(benign) // n, n, benign.shape[1]))"
   ]
  },
  {
   "cell_type": "code",
   "execution_count": 118,
   "metadata": {},
   "outputs": [
    {
     "name": "stdout",
     "output_type": "stream",
     "text": [
      "(498, 100, 53)\n",
      "(492, 100, 53)\n",
      "(503, 100, 53)\n",
      "(744, 100, 53)\n"
     ]
    }
   ],
   "source": [
    "print(data_ddos.shape)\n",
    "print(data_password_attack.shape)\n",
    "print(data_port_scan.shape)\n",
    "print(data_benign.shape)"
   ]
  },
  {
   "cell_type": "code",
   "execution_count": 119,
   "metadata": {},
   "outputs": [
    {
     "name": "stdout",
     "output_type": "stream",
     "text": [
      "498\n",
      "492\n",
      "503\n",
      "744\n"
     ]
    }
   ],
   "source": [
    "labels_ddos = np.zeros(len(ddos)//100).reshape(-1,1)\n",
    "labels_password_attack = np.full(len(password_attack)//100,1).reshape(-1,1)\n",
    "labels_port_scan = np.full(len(port_scan)//100,2).reshape(-1,1) \n",
    "labels_benign = np.full(len(benign)//100,3).reshape(-1,1)\n",
    "print(len(labels_ddos))\n",
    "print(len(labels_password_attack))\n",
    "print(len(labels_port_scan))\n",
    "print(len(labels_benign))\n",
    "labels = np.concatenate((labels_ddos, labels_password_attack, labels_port_scan, labels_benign), axis=0)\n",
    "labels = pd.DataFrame(labels)"
   ]
  },
  {
   "cell_type": "code",
   "execution_count": 120,
   "metadata": {},
   "outputs": [],
   "source": [
    "data = np.concatenate((data_ddos, data_password_attack, data_port_scan, data_benign), axis=0)\n",
    "# save data\n",
    "pickle.dump(data, open(f'./reshape_df/val/data.pkl', 'wb'))\n",
    "labels.to_pickle('./reshape_df/val/labels.pkl')"
   ]
  },
  {
   "cell_type": "code",
   "execution_count": 121,
   "metadata": {},
   "outputs": [
    {
     "name": "stdout",
     "output_type": "stream",
     "text": [
      "(2237, 100, 53)\n",
      "(2237, 1)\n"
     ]
    }
   ],
   "source": [
    "# test\n",
    "data = pickle.load(open('./reshape_df/val/data.pkl', 'rb'))\n",
    "labels = pd.read_pickle('./reshape_df/val/labels.pkl')\n",
    "print(data.shape)\n",
    "print(labels.shape)"
   ]
  }
 ],
 "metadata": {
  "kernelspec": {
   "display_name": "Python 3",
   "language": "python",
   "name": "python3"
  },
  "language_info": {
   "codemirror_mode": {
    "name": "ipython",
    "version": 3
   },
   "file_extension": ".py",
   "mimetype": "text/x-python",
   "name": "python",
   "nbconvert_exporter": "python",
   "pygments_lexer": "ipython3",
   "version": "3.10.6"
  },
  "orig_nbformat": 4
 },
 "nbformat": 4,
 "nbformat_minor": 2
}
