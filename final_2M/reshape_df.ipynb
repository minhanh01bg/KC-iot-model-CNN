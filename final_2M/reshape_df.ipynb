{
 "cells": [
  {
   "cell_type": "code",
   "execution_count": 29,
   "metadata": {},
   "outputs": [],
   "source": [
    "import numpy as np\n",
    "import pandas as pd\n",
    "import matplotlib.pyplot as plt\n",
    "import seaborn as sns\n",
    "import os\n",
    "import pickle"
   ]
  },
  {
   "cell_type": "code",
   "execution_count": 30,
   "metadata": {},
   "outputs": [
    {
     "data": {
      "text/html": [
       "<div>\n",
       "<style scoped>\n",
       "    .dataframe tbody tr th:only-of-type {\n",
       "        vertical-align: middle;\n",
       "    }\n",
       "\n",
       "    .dataframe tbody tr th {\n",
       "        vertical-align: top;\n",
       "    }\n",
       "\n",
       "    .dataframe thead th {\n",
       "        text-align: right;\n",
       "    }\n",
       "</style>\n",
       "<table border=\"1\" class=\"dataframe\">\n",
       "  <thead>\n",
       "    <tr style=\"text-align: right;\">\n",
       "      <th></th>\n",
       "      <th>Dst Port</th>\n",
       "      <th>Protocol</th>\n",
       "      <th>Fwd Pkt Len Max</th>\n",
       "      <th>Fwd Pkt Len Min</th>\n",
       "      <th>Fwd Pkt Len Std</th>\n",
       "      <th>Bwd Pkt Len Max</th>\n",
       "      <th>Bwd Pkt Len Min</th>\n",
       "      <th>Bwd Pkt Len Std</th>\n",
       "      <th>Flow Byts/s</th>\n",
       "      <th>Fwd IAT Tot</th>\n",
       "      <th>...</th>\n",
       "      <th>Init Bwd Win Byts</th>\n",
       "      <th>Fwd Act Data Pkts</th>\n",
       "      <th>Fwd Seg Size Min</th>\n",
       "      <th>Active Mean</th>\n",
       "      <th>Active Std</th>\n",
       "      <th>Active Max</th>\n",
       "      <th>Active Min</th>\n",
       "      <th>Idle Std</th>\n",
       "      <th>Idle Min</th>\n",
       "      <th>Label</th>\n",
       "    </tr>\n",
       "  </thead>\n",
       "  <tbody>\n",
       "    <tr>\n",
       "      <th>0</th>\n",
       "      <td>49574</td>\n",
       "      <td>6</td>\n",
       "      <td>84.0</td>\n",
       "      <td>84.0</td>\n",
       "      <td>0.0</td>\n",
       "      <td>0.0</td>\n",
       "      <td>0.0</td>\n",
       "      <td>0.0</td>\n",
       "      <td>857142.857143</td>\n",
       "      <td>0.0</td>\n",
       "      <td>...</td>\n",
       "      <td>501</td>\n",
       "      <td>0</td>\n",
       "      <td>32</td>\n",
       "      <td>0.0</td>\n",
       "      <td>0.0</td>\n",
       "      <td>0.0</td>\n",
       "      <td>0.0</td>\n",
       "      <td>0.0</td>\n",
       "      <td>1.677225e+15</td>\n",
       "      <td>DDOS</td>\n",
       "    </tr>\n",
       "    <tr>\n",
       "      <th>1</th>\n",
       "      <td>42317</td>\n",
       "      <td>6</td>\n",
       "      <td>0.0</td>\n",
       "      <td>0.0</td>\n",
       "      <td>0.0</td>\n",
       "      <td>0.0</td>\n",
       "      <td>0.0</td>\n",
       "      <td>0.0</td>\n",
       "      <td>0.000000</td>\n",
       "      <td>0.0</td>\n",
       "      <td>...</td>\n",
       "      <td>0</td>\n",
       "      <td>0</td>\n",
       "      <td>40</td>\n",
       "      <td>0.0</td>\n",
       "      <td>0.0</td>\n",
       "      <td>0.0</td>\n",
       "      <td>0.0</td>\n",
       "      <td>0.0</td>\n",
       "      <td>1.677225e+15</td>\n",
       "      <td>DDOS</td>\n",
       "    </tr>\n",
       "    <tr>\n",
       "      <th>2</th>\n",
       "      <td>17818</td>\n",
       "      <td>6</td>\n",
       "      <td>0.0</td>\n",
       "      <td>0.0</td>\n",
       "      <td>0.0</td>\n",
       "      <td>0.0</td>\n",
       "      <td>0.0</td>\n",
       "      <td>0.0</td>\n",
       "      <td>0.000000</td>\n",
       "      <td>0.0</td>\n",
       "      <td>...</td>\n",
       "      <td>0</td>\n",
       "      <td>0</td>\n",
       "      <td>40</td>\n",
       "      <td>0.0</td>\n",
       "      <td>0.0</td>\n",
       "      <td>0.0</td>\n",
       "      <td>0.0</td>\n",
       "      <td>0.0</td>\n",
       "      <td>1.677225e+15</td>\n",
       "      <td>DDOS</td>\n",
       "    </tr>\n",
       "    <tr>\n",
       "      <th>3</th>\n",
       "      <td>10950</td>\n",
       "      <td>6</td>\n",
       "      <td>0.0</td>\n",
       "      <td>0.0</td>\n",
       "      <td>0.0</td>\n",
       "      <td>0.0</td>\n",
       "      <td>0.0</td>\n",
       "      <td>0.0</td>\n",
       "      <td>0.000000</td>\n",
       "      <td>0.0</td>\n",
       "      <td>...</td>\n",
       "      <td>0</td>\n",
       "      <td>0</td>\n",
       "      <td>40</td>\n",
       "      <td>0.0</td>\n",
       "      <td>0.0</td>\n",
       "      <td>0.0</td>\n",
       "      <td>0.0</td>\n",
       "      <td>0.0</td>\n",
       "      <td>1.677225e+15</td>\n",
       "      <td>DDOS</td>\n",
       "    </tr>\n",
       "    <tr>\n",
       "      <th>4</th>\n",
       "      <td>47594</td>\n",
       "      <td>6</td>\n",
       "      <td>0.0</td>\n",
       "      <td>0.0</td>\n",
       "      <td>0.0</td>\n",
       "      <td>0.0</td>\n",
       "      <td>0.0</td>\n",
       "      <td>0.0</td>\n",
       "      <td>0.000000</td>\n",
       "      <td>0.0</td>\n",
       "      <td>...</td>\n",
       "      <td>0</td>\n",
       "      <td>0</td>\n",
       "      <td>40</td>\n",
       "      <td>0.0</td>\n",
       "      <td>0.0</td>\n",
       "      <td>0.0</td>\n",
       "      <td>0.0</td>\n",
       "      <td>0.0</td>\n",
       "      <td>1.677225e+15</td>\n",
       "      <td>DDOS</td>\n",
       "    </tr>\n",
       "  </tbody>\n",
       "</table>\n",
       "<p>5 rows × 54 columns</p>\n",
       "</div>"
      ],
      "text/plain": [
       "   Dst Port  Protocol  Fwd Pkt Len Max  Fwd Pkt Len Min  Fwd Pkt Len Std  \\\n",
       "0     49574         6             84.0             84.0              0.0   \n",
       "1     42317         6              0.0              0.0              0.0   \n",
       "2     17818         6              0.0              0.0              0.0   \n",
       "3     10950         6              0.0              0.0              0.0   \n",
       "4     47594         6              0.0              0.0              0.0   \n",
       "\n",
       "   Bwd Pkt Len Max  Bwd Pkt Len Min  Bwd Pkt Len Std    Flow Byts/s  \\\n",
       "0              0.0              0.0              0.0  857142.857143   \n",
       "1              0.0              0.0              0.0       0.000000   \n",
       "2              0.0              0.0              0.0       0.000000   \n",
       "3              0.0              0.0              0.0       0.000000   \n",
       "4              0.0              0.0              0.0       0.000000   \n",
       "\n",
       "   Fwd IAT Tot  ...  Init Bwd Win Byts  Fwd Act Data Pkts  Fwd Seg Size Min  \\\n",
       "0          0.0  ...                501                  0                32   \n",
       "1          0.0  ...                  0                  0                40   \n",
       "2          0.0  ...                  0                  0                40   \n",
       "3          0.0  ...                  0                  0                40   \n",
       "4          0.0  ...                  0                  0                40   \n",
       "\n",
       "   Active Mean  Active Std  Active Max  Active Min  Idle Std      Idle Min  \\\n",
       "0          0.0         0.0         0.0         0.0       0.0  1.677225e+15   \n",
       "1          0.0         0.0         0.0         0.0       0.0  1.677225e+15   \n",
       "2          0.0         0.0         0.0         0.0       0.0  1.677225e+15   \n",
       "3          0.0         0.0         0.0         0.0       0.0  1.677225e+15   \n",
       "4          0.0         0.0         0.0         0.0       0.0  1.677225e+15   \n",
       "\n",
       "   Label  \n",
       "0   DDOS  \n",
       "1   DDOS  \n",
       "2   DDOS  \n",
       "3   DDOS  \n",
       "4   DDOS  \n",
       "\n",
       "[5 rows x 54 columns]"
      ]
     },
     "execution_count": 30,
     "metadata": {},
     "output_type": "execute_result"
    }
   ],
   "source": [
    "dir = './pre_final_4p5M.pkl'\n",
    "df = pd.read_pickle(dir)\n",
    "df.head()"
   ]
  },
  {
   "cell_type": "code",
   "execution_count": 31,
   "metadata": {},
   "outputs": [
    {
     "name": "stdout",
     "output_type": "stream",
     "text": [
      "(4477942, 54)\n"
     ]
    }
   ],
   "source": [
    "print(df.shape)\n",
    "n = 100"
   ]
  },
  {
   "cell_type": "code",
   "execution_count": 32,
   "metadata": {},
   "outputs": [
    {
     "name": "stdout",
     "output_type": "stream",
     "text": [
      "Index(['Dst Port', 'Protocol', 'Fwd Pkt Len Max', 'Fwd Pkt Len Min',\n",
      "       'Fwd Pkt Len Std', 'Bwd Pkt Len Max', 'Bwd Pkt Len Min',\n",
      "       'Bwd Pkt Len Std', 'Flow Byts/s', 'Fwd IAT Tot', 'Fwd IAT Mean',\n",
      "       'Fwd IAT Std', 'Fwd IAT Max', 'Fwd IAT Min', 'Bwd IAT Tot',\n",
      "       'Bwd IAT Mean', 'Bwd IAT Std', 'Bwd IAT Max', 'Bwd IAT Min',\n",
      "       'Fwd PSH Flags', 'Fwd Header Len', 'Fwd Pkts/s', 'Bwd Pkts/s',\n",
      "       'Pkt Len Min', 'Pkt Len Max', 'Pkt Len Std', 'Pkt Len Var',\n",
      "       'FIN Flag Cnt', 'SYN Flag Cnt', 'RST Flag Cnt', 'PSH Flag Cnt',\n",
      "       'ACK Flag Cnt', 'URG Flag Cnt', 'ECE Flag Cnt', 'Down/Up Ratio',\n",
      "       'Pkt Size Avg', 'Fwd Seg Size Avg', 'Bwd Seg Size Avg',\n",
      "       'Bwd Pkts/b Avg', 'Bwd Blk Rate Avg', 'Subflow Fwd Pkts',\n",
      "       'Subflow Fwd Byts', 'Subflow Bwd Byts', 'Init Fwd Win Byts',\n",
      "       'Init Bwd Win Byts', 'Fwd Act Data Pkts', 'Fwd Seg Size Min',\n",
      "       'Active Mean', 'Active Std', 'Active Max', 'Active Min', 'Idle Std',\n",
      "       'Idle Min', 'Label'],\n",
      "      dtype='object')\n"
     ]
    }
   ],
   "source": [
    "print(df.columns)"
   ]
  },
  {
   "cell_type": "code",
   "execution_count": 33,
   "metadata": {},
   "outputs": [
    {
     "name": "stdout",
     "output_type": "stream",
     "text": [
      "4477942\n",
      "999900\n",
      "988400\n",
      "999900\n",
      "1489400\n"
     ]
    }
   ],
   "source": [
    "print(len(df))\n",
    "ddos = df[df['Label'] == 'DDOS']\n",
    "ddos = ddos[:len(ddos) - (len(ddos) % n)]\n",
    "ddos.drop(['Label'], axis=1, inplace=True)\n",
    "print(len(ddos))\n",
    "\n",
    "password_attack = df[df['Label'] == 'Password_attack']\n",
    "password_attack = password_attack[:len(password_attack) - (len(password_attack) % n)]\n",
    "password_attack.drop(['Label'], axis=1, inplace=True)\n",
    "print(len(password_attack))\n",
    "\n",
    "port_scan = df[df['Label'] == 'Port_scan']\n",
    "port_scan = port_scan[:len(port_scan) - (len(port_scan) % n)]\n",
    "port_scan.drop(['Label'], axis=1, inplace=True)\n",
    "print(len(port_scan))\n",
    "\n",
    "benign = df[df['Label'] == 'Benign']\n",
    "benign = benign[:len(benign)- (len(benign) % n)]\n",
    "benign.drop(['Label'], axis=1, inplace=True)\n",
    "print(len(benign))\n",
    "\n",
    "df.drop(['Label'], axis=1, inplace=True)"
   ]
  },
  {
   "cell_type": "code",
   "execution_count": 34,
   "metadata": {},
   "outputs": [],
   "source": [
    "# data_reshape = df.groupby(np.arange(len(df)) // n, axis = 0).apply(lambda x: x.reset_index(drop=True)).unstack()\n",
    "data_ddos = np.reshape(ddos.values, (len(ddos) // n, n, ddos.shape[1]))\n",
    "data_password_attack = np.reshape(password_attack.values, (len(password_attack) // n, n, password_attack.shape[1]))\n",
    "data_port_scan = np.reshape(port_scan.values, (len(port_scan) // n, n, port_scan.shape[1]))\n",
    "data_benign = np.reshape(benign.values, (len(benign) // n, n, benign.shape[1]))"
   ]
  },
  {
   "cell_type": "code",
   "execution_count": 35,
   "metadata": {},
   "outputs": [
    {
     "name": "stdout",
     "output_type": "stream",
     "text": [
      "(9999, 100, 53)\n",
      "(9884, 100, 53)\n",
      "(9999, 100, 53)\n",
      "(14894, 100, 53)\n"
     ]
    }
   ],
   "source": [
    "print(data_ddos.shape)\n",
    "print(data_password_attack.shape)\n",
    "print(data_port_scan.shape)\n",
    "print(data_benign.shape)"
   ]
  },
  {
   "cell_type": "code",
   "execution_count": 36,
   "metadata": {},
   "outputs": [
    {
     "name": "stdout",
     "output_type": "stream",
     "text": [
      "9999\n",
      "9884\n",
      "9999\n",
      "14894\n"
     ]
    }
   ],
   "source": [
    "labels_ddos = np.zeros(len(ddos)//100).reshape(-1,1)\n",
    "labels_password_attack = np.full(len(password_attack)//100,1).reshape(-1,1)\n",
    "labels_port_scan = np.full(len(port_scan)//100,2).reshape(-1,1) \n",
    "labels_benign = np.full(len(benign)//100,3).reshape(-1,1)\n",
    "print(len(labels_ddos))\n",
    "print(len(labels_password_attack))\n",
    "print(len(labels_port_scan))\n",
    "print(len(labels_benign))\n",
    "labels = np.concatenate((labels_ddos, labels_password_attack, labels_port_scan, labels_benign), axis=0)\n",
    "labels = pd.DataFrame(labels)"
   ]
  },
  {
   "cell_type": "code",
   "execution_count": 37,
   "metadata": {},
   "outputs": [
    {
     "ename": "ValueError",
     "evalue": "Must pass 2-d input. shape=(44776, 100, 53)",
     "output_type": "error",
     "traceback": [
      "\u001b[1;31m---------------------------------------------------------------------------\u001b[0m",
      "\u001b[1;31mValueError\u001b[0m                                Traceback (most recent call last)",
      "\u001b[1;32mc:\\Users\\fancyma\\Desktop\\KC-iot-model-CNN\\final_2M\\reshape_df.ipynb Cell 9\u001b[0m in \u001b[0;36m2\n\u001b[0;32m      <a href='vscode-notebook-cell:/c%3A/Users/fancyma/Desktop/KC-iot-model-CNN/final_2M/reshape_df.ipynb#X10sZmlsZQ%3D%3D?line=0'>1</a>\u001b[0m data \u001b[39m=\u001b[39m np\u001b[39m.\u001b[39mconcatenate((data_ddos, data_password_attack, data_port_scan, data_benign), axis\u001b[39m=\u001b[39m\u001b[39m0\u001b[39m)\n\u001b[1;32m----> <a href='vscode-notebook-cell:/c%3A/Users/fancyma/Desktop/KC-iot-model-CNN/final_2M/reshape_df.ipynb#X10sZmlsZQ%3D%3D?line=1'>2</a>\u001b[0m data1 \u001b[39m=\u001b[39m pd\u001b[39m.\u001b[39;49mDataFrame(data)\n\u001b[0;32m      <a href='vscode-notebook-cell:/c%3A/Users/fancyma/Desktop/KC-iot-model-CNN/final_2M/reshape_df.ipynb#X10sZmlsZQ%3D%3D?line=2'>3</a>\u001b[0m data1\u001b[39m.\u001b[39mcolumns \u001b[39m=\u001b[39m df\u001b[39m.\u001b[39mcolumns\n\u001b[0;32m      <a href='vscode-notebook-cell:/c%3A/Users/fancyma/Desktop/KC-iot-model-CNN/final_2M/reshape_df.ipynb#X10sZmlsZQ%3D%3D?line=3'>4</a>\u001b[0m \u001b[39m# save data\u001b[39;00m\n",
      "File \u001b[1;32mc:\\Users\\fancyma\\AppData\\Local\\Programs\\Python\\Python310\\lib\\site-packages\\pandas\\core\\frame.py:720\u001b[0m, in \u001b[0;36mDataFrame.__init__\u001b[1;34m(self, data, index, columns, dtype, copy)\u001b[0m\n\u001b[0;32m    710\u001b[0m         mgr \u001b[39m=\u001b[39m dict_to_mgr(\n\u001b[0;32m    711\u001b[0m             \u001b[39m# error: Item \"ndarray\" of \"Union[ndarray, Series, Index]\" has no\u001b[39;00m\n\u001b[0;32m    712\u001b[0m             \u001b[39m# attribute \"name\"\u001b[39;00m\n\u001b[1;32m   (...)\u001b[0m\n\u001b[0;32m    717\u001b[0m             typ\u001b[39m=\u001b[39mmanager,\n\u001b[0;32m    718\u001b[0m         )\n\u001b[0;32m    719\u001b[0m     \u001b[39melse\u001b[39;00m:\n\u001b[1;32m--> 720\u001b[0m         mgr \u001b[39m=\u001b[39m ndarray_to_mgr(\n\u001b[0;32m    721\u001b[0m             data,\n\u001b[0;32m    722\u001b[0m             index,\n\u001b[0;32m    723\u001b[0m             columns,\n\u001b[0;32m    724\u001b[0m             dtype\u001b[39m=\u001b[39;49mdtype,\n\u001b[0;32m    725\u001b[0m             copy\u001b[39m=\u001b[39;49mcopy,\n\u001b[0;32m    726\u001b[0m             typ\u001b[39m=\u001b[39;49mmanager,\n\u001b[0;32m    727\u001b[0m         )\n\u001b[0;32m    729\u001b[0m \u001b[39m# For data is list-like, or Iterable (will consume into list)\u001b[39;00m\n\u001b[0;32m    730\u001b[0m \u001b[39melif\u001b[39;00m is_list_like(data):\n",
      "File \u001b[1;32mc:\\Users\\fancyma\\AppData\\Local\\Programs\\Python\\Python310\\lib\\site-packages\\pandas\\core\\internals\\construction.py:329\u001b[0m, in \u001b[0;36mndarray_to_mgr\u001b[1;34m(values, index, columns, dtype, copy, typ)\u001b[0m\n\u001b[0;32m    324\u001b[0m         values \u001b[39m=\u001b[39m values\u001b[39m.\u001b[39mreshape(\u001b[39m-\u001b[39m\u001b[39m1\u001b[39m, \u001b[39m1\u001b[39m)\n\u001b[0;32m    326\u001b[0m \u001b[39melse\u001b[39;00m:\n\u001b[0;32m    327\u001b[0m     \u001b[39m# by definition an array here\u001b[39;00m\n\u001b[0;32m    328\u001b[0m     \u001b[39m# the dtypes will be coerced to a single dtype\u001b[39;00m\n\u001b[1;32m--> 329\u001b[0m     values \u001b[39m=\u001b[39m _prep_ndarraylike(values, copy\u001b[39m=\u001b[39;49mcopy_on_sanitize)\n\u001b[0;32m    331\u001b[0m \u001b[39mif\u001b[39;00m dtype \u001b[39mis\u001b[39;00m \u001b[39mnot\u001b[39;00m \u001b[39mNone\u001b[39;00m \u001b[39mand\u001b[39;00m \u001b[39mnot\u001b[39;00m is_dtype_equal(values\u001b[39m.\u001b[39mdtype, dtype):\n\u001b[0;32m    332\u001b[0m     \u001b[39m# GH#40110 see similar check inside sanitize_array\u001b[39;00m\n\u001b[0;32m    333\u001b[0m     rcf \u001b[39m=\u001b[39m \u001b[39mnot\u001b[39;00m (is_integer_dtype(dtype) \u001b[39mand\u001b[39;00m values\u001b[39m.\u001b[39mdtype\u001b[39m.\u001b[39mkind \u001b[39m==\u001b[39m \u001b[39m\"\u001b[39m\u001b[39mf\u001b[39m\u001b[39m\"\u001b[39m)\n",
      "File \u001b[1;32mc:\\Users\\fancyma\\AppData\\Local\\Programs\\Python\\Python310\\lib\\site-packages\\pandas\\core\\internals\\construction.py:583\u001b[0m, in \u001b[0;36m_prep_ndarraylike\u001b[1;34m(values, copy)\u001b[0m\n\u001b[0;32m    581\u001b[0m     values \u001b[39m=\u001b[39m values\u001b[39m.\u001b[39mreshape((values\u001b[39m.\u001b[39mshape[\u001b[39m0\u001b[39m], \u001b[39m1\u001b[39m))\n\u001b[0;32m    582\u001b[0m \u001b[39melif\u001b[39;00m values\u001b[39m.\u001b[39mndim \u001b[39m!=\u001b[39m \u001b[39m2\u001b[39m:\n\u001b[1;32m--> 583\u001b[0m     \u001b[39mraise\u001b[39;00m \u001b[39mValueError\u001b[39;00m(\u001b[39mf\u001b[39m\u001b[39m\"\u001b[39m\u001b[39mMust pass 2-d input. shape=\u001b[39m\u001b[39m{\u001b[39;00mvalues\u001b[39m.\u001b[39mshape\u001b[39m}\u001b[39;00m\u001b[39m\"\u001b[39m)\n\u001b[0;32m    585\u001b[0m \u001b[39mreturn\u001b[39;00m values\n",
      "\u001b[1;31mValueError\u001b[0m: Must pass 2-d input. shape=(44776, 100, 53)"
     ]
    }
   ],
   "source": [
    "data = np.concatenate((data_ddos, data_password_attack, data_port_scan, data_benign), axis=0)\n",
    "# save data\n",
    "pickle.dump(data, open(f'./reshape_df/data.pkl', 'wb'))\n",
    "labels.to_pickle('./reshape_df/labels.pkl')"
   ]
  },
  {
   "cell_type": "code",
   "execution_count": null,
   "metadata": {},
   "outputs": [
    {
     "name": "stdout",
     "output_type": "stream",
     "text": [
      "(44776, 100, 53)\n",
      "(44776, 1)\n"
     ]
    }
   ],
   "source": [
    "# test\n",
    "data = pickle.load(open('./reshape_df/data.pkl', 'rb'))\n",
    "labels = pd.read_pickle('./reshape_df/labels.pkl')\n",
    "print(data.shape)\n",
    "print(labels.shape)"
   ]
  }
 ],
 "metadata": {
  "kernelspec": {
   "display_name": "Python 3",
   "language": "python",
   "name": "python3"
  },
  "language_info": {
   "codemirror_mode": {
    "name": "ipython",
    "version": 3
   },
   "file_extension": ".py",
   "mimetype": "text/x-python",
   "name": "python",
   "nbconvert_exporter": "python",
   "pygments_lexer": "ipython3",
   "version": "3.10.6"
  },
  "orig_nbformat": 4
 },
 "nbformat": 4,
 "nbformat_minor": 2
}
