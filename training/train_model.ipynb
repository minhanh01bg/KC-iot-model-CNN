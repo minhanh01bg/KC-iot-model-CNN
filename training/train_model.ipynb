{
 "cells": [
  {
   "cell_type": "code",
   "execution_count": 4,
   "metadata": {},
   "outputs": [],
   "source": [
    "from tensorflow.keras.models import Sequential,Model\n",
    "from tensorflow.keras.applications.vgg16 import VGG16\n",
    "from tensorflow.keras.layers import Dense,Conv1D,Conv2D,Flatten,BatchNormalization,MaxPooling1D,Dropout,Input\n",
    "from tensorflow.keras.layers import concatenate\n",
    "from tensorflow.keras.layers import GlobalAveragePooling2D,GlobalMaxPooling2D,MaxPooling2D,ZeroPadding2D,AveragePooling2D\n",
    "from tensorflow.keras.layers import Activation,Add,Reshape,Permute,LeakyReLU,UpSampling2D,Conv2DTranspose,Concatenate\n",
    "from tensorflow.keras.layers import Lambda,InputSpec,Layer,Input,Add,ZeroPadding2D,UpSampling2D,MaxPooling2D,Conv2D,Bidirectional,LSTM\n",
    "from tensorflow.keras.callbacks import ModelCheckpoint,EarlyStopping,ReduceLROnPlateau,TensorBoard\n",
    "from tensorflow.keras.models import load_model\n",
    "from tensorflow.keras.preprocessing.image import ImageDataGenerator\n",
    "from tensorflow.keras.applications import VGG16\n",
    "from tensorflow.keras.applications.vgg16 import preprocess_input\n",
    "import tensorflow as tf\n",
    "import matplotlib.pyplot as plt\n",
    "import seaborn as sns\n",
    "import pandas as pd\n",
    "import numpy as np\n",
    "from sklearn.model_selection import train_test_split\n",
    "from sklearn.preprocessing import LabelEncoder,StandardScaler\n",
    "from sklearn.utils import resample\n",
    "from tensorflow.keras.utils import to_categorical\n",
    "from sklearn.preprocessing import OneHotEncoder\n",
    "from tensorflow.keras.optimizers import Adam,SGD\n",
    "import datetime\n",
    "from tensorflow.keras.utils import plot_model\n",
    "import os\n",
    "# import flask\n",
    "import json\n",
    "\n",
    "time = datetime.datetime.now().strftime(\"%Y-%m-%d-%H-%M-%S\")\n",
    "# def load_dataset():\n",
    "\n",
    "X_train = pd.read_pickle('../final_2M/reshape_df/train/data.pkl')\n",
    "y_train = pd.read_pickle('../final_2M/reshape_df/train/labels.pkl')\n",
    "X_test = pd.read_pickle('../final_2M/reshape_df/test/data.pkl')\n",
    "y_test = pd.read_pickle('../final_2M/reshape_df/test/labels.pkl')\n",
    "X_val = pd.read_pickle('../final_2M/reshape_df/val/data.pkl')\n",
    "y_val = pd.read_pickle('../final_2M/reshape_df/val/labels.pkl')"
   ]
  },
  {
   "cell_type": "code",
   "execution_count": 7,
   "metadata": {},
   "outputs": [],
   "source": [
    "def re_shape_3D(X_train,X_test,y_train,y_test,X_val,y_val):\n",
    "    X_train = X_train.reshape(len(X_train),X_train.shape[1],X_train.shape[2],1)\n",
    "    X_test = X_test.reshape(len(X_test),X_test.shape[1],X_test.shape[2],1)\n",
    "    X_val = X_val.reshape(len(X_val),X_val.shape[1],X_val.shape[2],1)\n",
    "    return X_train,X_test,y_train,y_test,X_val,y_val\n",
    "# define cnn model\n",
    "def define_model_99(time,Xtrain,ytrain,Xtest,ytest,logdir,epochs=10,batch_size=128,lr =0.001):\n",
    "    # load model\n",
    "    model = Sequential()\n",
    "    model.add(Conv2D(64,(3,3),strides=(1,1),input_shape=(Xtrain.shape[1],Xtrain.shape[2],Xtrain.shape[3]),padding='same',activation='relu',kernel_initializer='glorot_uniform'))\n",
    "    model.add(Conv2D(64,(3,3),strides=(1,1),padding='same',activation='relu',kernel_initializer='glorot_uniform'))\n",
    "    model.add(MaxPooling2D(pool_size=(2,2)))\n",
    "    model.add(Conv2D(128,(3,3),strides=(1,1),padding='same',activation='relu',kernel_initializer='glorot_uniform'))\n",
    "    model.add(Conv2D(128,(3,3),strides=(1,1),padding='same',activation='relu',kernel_initializer='glorot_uniform'))\n",
    "    model.add(MaxPooling2D(pool_size=(2,2)))\n",
    "    model.add(Conv2D(256,(3,3),strides=(1,1),padding='same',activation='relu',kernel_initializer='glorot_uniform'))\n",
    "    model.add(Conv2D(256,(3,3),strides=(1,1),padding='same',activation='relu',kernel_initializer='glorot_uniform'))\n",
    "    model.add(Conv2D(256,(3,3),strides=(1,1),padding='same',activation='relu',kernel_initializer='glorot_uniform'))\n",
    "    model.add(GlobalAveragePooling2D())\n",
    "    model.add(Dense(256,activation='relu'))\n",
    "    model.add(Dropout(rate=0.5))\n",
    "    model.add(Dense(4,activation='softmax'))\n",
    "    model.compile(loss='sparse_categorical_crossentropy',optimizer='adam',metrics=['accuracy'])\n",
    "    # create data generator \n",
    "    time = datetime.datetime.now().strftime(\"%Y-%m-%d-%H-%M-%S\")\n",
    "    logdir = logdir + time\n",
    "    tensorboard_callback = TensorBoard(log_dir=logdir)\n",
    "    calls = [tensorboard_callback,\n",
    "            #  EarlyStopping(monitor='val_loss',patience=5,verbose=1,mode='auto'),\n",
    "            #  ModelCheckpoint(filepath=f'models/{time}/model_{time}.h5',monitor='val_loss',save_best_only=True,mode='auto'),\n",
    "            #  ReduceLROnPlateau(monitor='val_loss',factor=0.1,patience=3,verbose=1,mode='auto',min_delta=0.0001,cooldown=0,min_lr=0)\n",
    "            ]\n",
    "    model.fit(Xtrain,ytrain,epochs=epochs,batch_size=batch_size,validation_data=(Xtest,ytest),callbacks=calls,verbose=1)\n",
    "    return model\n"
   ]
  },
  {
   "cell_type": "code",
   "execution_count": 8,
   "metadata": {},
   "outputs": [
    {
     "name": "stdout",
     "output_type": "stream",
     "text": [
      "Epoch 1/10\n",
      "315/315 [==============================] - 65s 168ms/step - loss: 0.3182 - accuracy: 0.8270 - val_loss: 9.7798e-06 - val_accuracy: 1.0000\n",
      "Epoch 2/10\n",
      "315/315 [==============================] - 50s 158ms/step - loss: 4.7565e-05 - accuracy: 1.0000 - val_loss: 6.6447e-07 - val_accuracy: 1.0000\n",
      "Epoch 3/10\n",
      "315/315 [==============================] - 51s 162ms/step - loss: 0.2482 - accuracy: 0.9129 - val_loss: 2.7284e-08 - val_accuracy: 1.0000\n",
      "Epoch 4/10\n",
      "315/315 [==============================] - 51s 163ms/step - loss: 5.2010e-04 - accuracy: 0.9999 - val_loss: 0.0000e+00 - val_accuracy: 1.0000\n",
      "Epoch 5/10\n",
      "315/315 [==============================] - 51s 163ms/step - loss: 3.4483e-06 - accuracy: 1.0000 - val_loss: 0.0000e+00 - val_accuracy: 1.0000\n",
      "Epoch 6/10\n",
      "315/315 [==============================] - 52s 164ms/step - loss: 2.6001e-05 - accuracy: 1.0000 - val_loss: 0.0000e+00 - val_accuracy: 1.0000\n",
      "Epoch 7/10\n",
      "315/315 [==============================] - 52s 165ms/step - loss: 2.9604e-06 - accuracy: 1.0000 - val_loss: 0.0000e+00 - val_accuracy: 1.0000\n",
      "Epoch 8/10\n",
      "315/315 [==============================] - 52s 165ms/step - loss: 2.2151e-06 - accuracy: 1.0000 - val_loss: 0.0000e+00 - val_accuracy: 1.0000\n",
      "Epoch 9/10\n",
      "315/315 [==============================] - 52s 165ms/step - loss: 2.0410e-06 - accuracy: 1.0000 - val_loss: 0.0000e+00 - val_accuracy: 1.0000\n",
      "Epoch 10/10\n",
      "315/315 [==============================] - 52s 165ms/step - loss: 3.6680e-07 - accuracy: 1.0000 - val_loss: 0.0000e+00 - val_accuracy: 1.0000\n"
     ]
    }
   ],
   "source": [
    "X_train,X_test,y_train,y_test,X_val,y_val = re_shape_3D(X_train,X_test,y_train,y_test,X_val,y_val)\n",
    "os.mkdir(f'./models/{time}')\n",
    "model = define_model_99(time,X_train,y_train,X_val,y_val,'./logs/')"
   ]
  },
  {
   "cell_type": "code",
   "execution_count": 10,
   "metadata": {},
   "outputs": [
    {
     "name": "stdout",
     "output_type": "stream",
     "text": [
      "70/70 [==============================] - 1s 17ms/step - loss: 0.0000e+00 - accuracy: 1.0000\n",
      "1.0\n"
     ]
    }
   ],
   "source": [
    "_,acc = model.evaluate(X_test,y_test)\n",
    "print(acc)"
   ]
  }
 ],
 "metadata": {
  "kernelspec": {
   "display_name": "Python 3",
   "language": "python",
   "name": "python3"
  },
  "language_info": {
   "codemirror_mode": {
    "name": "ipython",
    "version": 3
   },
   "file_extension": ".py",
   "mimetype": "text/x-python",
   "name": "python",
   "nbconvert_exporter": "python",
   "pygments_lexer": "ipython3",
   "version": "3.10.6"
  },
  "orig_nbformat": 4
 },
 "nbformat": 4,
 "nbformat_minor": 2
}
